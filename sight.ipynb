{
 "cells": [
  {
   "cell_type": "code",
   "execution_count": 2,
   "metadata": {},
   "outputs": [],
   "source": [
    "from astropy.time import Time\n",
    "from astropy.coordinates import EarthLocation, AltAz, get_sun, get_moon, SkyCoord\n",
    "import astropy.units as u\n",
    "import numpy as np"
   ]
  },
  {
   "cell_type": "code",
   "execution_count": 3,
   "metadata": {},
   "outputs": [],
   "source": [
    "def calculate_intercept(observed_altitude, celestial_body, assumed_position, observation_time):\n",
    "    \"\"\"\n",
    "    Perform a sight reduction to calculate the intercept (distance and direction) and azimuth.\n",
    "    \n",
    "    Parameters:\n",
    "    - observed_altitude: Observed altitude of the celestial body (degrees).\n",
    "    - celestial_body: Astropy SkyCoord object for the celestial body.\n",
    "    - assumed_position: EarthLocation object for the assumed observer position.\n",
    "    - observation_time: Astropy Time object for the observation time.\n",
    "\n",
    "    Returns:\n",
    "    - intercept: Distance between observed and calculated altitude (nautical miles).\n",
    "    - azimuth: Calculated azimuth of the celestial body (degrees).\n",
    "    \"\"\"\n",
    "    # Create an AltAz frame for the assumed position\n",
    "    altaz_frame = AltAz(location=assumed_position, obstime=observation_time)\n",
    "\n",
    "    # Transform the celestial body’s coordinates to AltAz\n",
    "    body_altaz = celestial_body.transform_to(altaz_frame)\n",
    "\n",
    "    # Extract calculated altitude and azimuth\n",
    "    calculated_altitude = body_altaz.alt.deg\n",
    "    azimuth = body_altaz.az.deg\n",
    "\n",
    "    # Calculate the intercept (difference in altitude)\n",
    "    intercept = (observed_altitude - calculated_altitude) * 60  # Convert degrees to nautical miles\n",
    "\n",
    "    return intercept, azimuth\n"
   ]
  },
  {
   "cell_type": "code",
   "execution_count": 4,
   "metadata": {},
   "outputs": [],
   "source": [
    "def main():\n",
    "    # Input data\n",
    "    observed_altitude = 45.23  # Observed altitude of the Sun (degrees)\n",
    "    celestial_body_name = \"sun\"  # Specify 'sun' or 'moon' or use RA/Dec for stars\n",
    "    assumed_lat = 40.7128  # Assumed latitude (degrees)\n",
    "    assumed_lon = -74.0060  # Assumed longitude (degrees)\n",
    "    observation_time = Time.now()  # Observation time in UTC\n",
    "\n",
    "    # Define the celestial body\n",
    "    if celestial_body_name.lower() == \"sun\":\n",
    "        celestial_body = get_sun(observation_time)\n",
    "    elif celestial_body_name.lower() == \"moon\":\n",
    "        celestial_body = get_moon(observation_time)\n",
    "    else:\n",
    "        # Use RA/Dec for stars (example: Polaris)\n",
    "        celestial_body = SkyCoord(ra=2.530301028*u.hourangle, dec=89.264109444*u.deg)\n",
    "\n",
    "    # Assumed position of the observer\n",
    "    assumed_position = EarthLocation(lat=assumed_lat*u.deg, lon=assumed_lon*u.deg, height=0*u.m)\n",
    "\n",
    "    # Perform sight reduction\n",
    "    intercept, azimuth = calculate_intercept(observed_altitude, celestial_body, assumed_position, observation_time)\n",
    "\n",
    "    # Display the results\n",
    "    print(f\"Observed Altitude: {observed_altitude:.2f}°\")\n",
    "    print(f\"Intercept (difference in altitude): {abs(intercept):.2f} nautical miles\")\n",
    "    print(f\"Direction of intercept: {'Toward' if intercept > 0 else 'Away from'} celestial body\")\n",
    "    print(f\"Azimuth of Celestial Body: {azimuth:.2f}°\")"
   ]
  },
  {
   "cell_type": "code",
   "execution_count": 6,
   "metadata": {},
   "outputs": [],
   "source": [
    "def calculate_limb_altitudes(center_altitude, celestial_body, observation_time, observer_location):\n",
    "    \"\"\"Calculate lower and upper limb altitudes.\"\"\"\n",
    "    # Calculate the angular radius of the celestial body\n",
    "    if celestial_body == \"sun\":\n",
    "        body = get_sun(observation_time)\n",
    "    elif celestial_body == \"moon\":\n",
    "        body = get_moon(observation_time)\n",
    "    else:\n",
    "        raise ValueError(\"Only 'sun' or 'moon' supported for now.\")\n",
    "    \n",
    "    # AltAz frame for the observer\n",
    "    altaz_frame = AltAz(location=observer_location, obstime=observation_time)\n",
    "    body_altaz = body.transform_to(altaz_frame)\n",
    "\n",
    "    # Angular diameter\n",
    "    angular_diameter = body.size.to(u.deg)  # Angular diameter in degrees\n",
    "    angular_radius = angular_diameter / 2\n",
    "\n",
    "    # Calculate limb altitudes\n",
    "    lower_limb = center_altitude - angular_radius.value\n",
    "    upper_limb = center_altitude + angular_radius.value\n",
    "\n",
    "    return lower_limb, upper_limb"
   ]
  },
  {
   "cell_type": "code",
   "execution_count": 5,
   "metadata": {},
   "outputs": [
    {
     "name": "stdout",
     "output_type": "stream",
     "text": [
      "Observed Altitude: 45.23°\n",
      "Intercept (difference in altitude): 3910.27 nautical miles\n",
      "Direction of intercept: Toward celestial body\n",
      "Azimuth of Celestial Body: 102.77°\n"
     ]
    }
   ],
   "source": [
    "if __name__ == \"__main__\":\n",
    "    main()"
   ]
  },
  {
   "cell_type": "code",
   "execution_count": null,
   "metadata": {},
   "outputs": [],
   "source": [
    "    observed_altitude = 45.23  # Observed altitude of the Sun (degrees)\n",
    "    celestial_body_name = \"sun\"  # Specify 'sun' or 'moon' or use RA/Dec for stars\n",
    "    assumed_lat = 40.7128  # Assumed latitude (degrees)\n",
    "    assumed_lon = -74.0060  # Assumed longitude (degrees)\n",
    "    observation_time = Time.now()  # Observation time in UTC"
   ]
  }
 ],
 "metadata": {
  "kernelspec": {
   "display_name": "Luna",
   "language": "python",
   "name": "python3"
  },
  "language_info": {
   "codemirror_mode": {
    "name": "ipython",
    "version": 3
   },
   "file_extension": ".py",
   "mimetype": "text/x-python",
   "name": "python",
   "nbconvert_exporter": "python",
   "pygments_lexer": "ipython3",
   "version": "3.12.7"
  }
 },
 "nbformat": 4,
 "nbformat_minor": 2
}
